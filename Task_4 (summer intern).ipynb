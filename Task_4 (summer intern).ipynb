{
 "cells": [
  {
   "cell_type": "code",
   "execution_count": 1,
   "id": "6c558a36",
   "metadata": {},
   "outputs": [],
   "source": [
    "import cv2\n",
    "import numpy"
   ]
  },
  {
   "cell_type": "code",
   "execution_count": 2,
   "id": "49a4fcac",
   "metadata": {},
   "outputs": [],
   "source": [
    "photo= numpy.zeros((900,900,3))"
   ]
  },
  {
   "cell_type": "code",
   "execution_count": 3,
   "id": "4539bbeb",
   "metadata": {},
   "outputs": [
    {
     "data": {
      "text/plain": [
       "array([[[0., 0., 0.],\n",
       "        [0., 0., 0.],\n",
       "        [0., 0., 0.],\n",
       "        ...,\n",
       "        [0., 0., 0.],\n",
       "        [0., 0., 0.],\n",
       "        [0., 0., 0.]],\n",
       "\n",
       "       [[0., 0., 0.],\n",
       "        [0., 0., 0.],\n",
       "        [0., 0., 0.],\n",
       "        ...,\n",
       "        [0., 0., 0.],\n",
       "        [0., 0., 0.],\n",
       "        [0., 0., 0.]],\n",
       "\n",
       "       [[0., 0., 0.],\n",
       "        [0., 0., 0.],\n",
       "        [0., 0., 0.],\n",
       "        ...,\n",
       "        [0., 0., 0.],\n",
       "        [0., 0., 0.],\n",
       "        [0., 0., 0.]],\n",
       "\n",
       "       ...,\n",
       "\n",
       "       [[0., 0., 0.],\n",
       "        [0., 0., 0.],\n",
       "        [0., 0., 0.],\n",
       "        ...,\n",
       "        [0., 0., 0.],\n",
       "        [0., 0., 0.],\n",
       "        [0., 0., 0.]],\n",
       "\n",
       "       [[0., 0., 0.],\n",
       "        [0., 0., 0.],\n",
       "        [0., 0., 0.],\n",
       "        ...,\n",
       "        [0., 0., 0.],\n",
       "        [0., 0., 0.],\n",
       "        [0., 0., 0.]],\n",
       "\n",
       "       [[0., 0., 0.],\n",
       "        [0., 0., 0.],\n",
       "        [0., 0., 0.],\n",
       "        ...,\n",
       "        [0., 0., 0.],\n",
       "        [0., 0., 0.],\n",
       "        [0., 0., 0.]]])"
      ]
     },
     "execution_count": 3,
     "metadata": {},
     "output_type": "execute_result"
    }
   ],
   "source": [
    "photo"
   ]
  },
  {
   "cell_type": "code",
   "execution_count": 4,
   "id": "141f05cb",
   "metadata": {},
   "outputs": [],
   "source": [
    "#image nnumber: 1\n",
    "#Task_4.1: Create image by yourself using python code\n",
    "#Photo_1\n",
    "\n",
    "photo[:,:]= [255,255,255]\n",
    "photo[0:300,100:150]=[0,255,255]\n",
    "photo[125:150,150:200]=[0,255,255]\n",
    "photo[0:300,200:250]=[0,255,255]\n",
    "photo[0:300,300:330]=[0,255,255]\n",
    "\n",
    "photo[0:300,400:440]=[0,255,0]\n",
    "photo[0:40,440:560]=[0,255,0]\n",
    "photo[0:300,560:600]=[0,255,0]\n",
    "photo[125:160,440:600]=[0,255,0]\n",
    "photo[0:300,650:680]=[0,255,0]\n",
    "photo[260:300,680:750]=[0,255,0]\n",
    "photo[0:300,780:810]=[0,255,0]\n",
    "photo[260:300,810:890]=[0,255,0]\n",
    "#photo[260:300,440:560]=[0,255,0]\n",
    "#photo[300:220,560:590]=[108,0,255]"
   ]
  },
  {
   "cell_type": "code",
   "execution_count": 5,
   "id": "a0767c79",
   "metadata": {},
   "outputs": [
    {
     "data": {
      "text/plain": [
       "(900, 900, 3)"
      ]
     },
     "execution_count": 5,
     "metadata": {},
     "output_type": "execute_result"
    }
   ],
   "source": [
    "photo.shape"
   ]
  },
  {
   "cell_type": "code",
   "execution_count": 6,
   "id": "7aa92600",
   "metadata": {},
   "outputs": [],
   "source": [
    "cv2.imshow('hi',photo)\n",
    "cv2.waitKey()\n",
    "cv2.destroyAllWindows()"
   ]
  },
  {
   "cell_type": "code",
   "execution_count": 7,
   "id": "6920eade",
   "metadata": {},
   "outputs": [],
   "source": [
    "#Task_4.1: Create image by yourself using python code\n",
    "#photo2\n",
    "photo2= numpy.zeros([900,900,3])\n",
    "photo2[:,:]=[0,0,255]\n",
    "temp= numpy.zeros([900,900,3])"
   ]
  },
  {
   "cell_type": "code",
   "execution_count": 8,
   "id": "87840de6",
   "metadata": {},
   "outputs": [],
   "source": [
    "c=cv2.circle(photo2,(200,200),(200),(0,255,0),cv2.FILLED)\n",
    "d= cv2.circle(photo2,(50,50),(50),(0,255,0),cv2.FILLED)\n",
    "#e= cv2.circle(photo2,(200,200),(50),(0,255,0),cv2.FILLED)"
   ]
  },
  {
   "cell_type": "code",
   "execution_count": 9,
   "id": "7fa7bc0d",
   "metadata": {},
   "outputs": [],
   "source": [
    "cv2.imshow('hi',photo2)\n",
    "cv2.waitKey()\n",
    "cv2.destroyAllWindows()"
   ]
  },
  {
   "cell_type": "code",
   "execution_count": 10,
   "id": "f5d49eed",
   "metadata": {},
   "outputs": [],
   "source": [
    "#Task_4.2: Take 2 image and crop some part of image and swap it with another image\n",
    "#cropping and swapping of photo and photo2\n",
    "for i in range(0,500):\n",
    "    for j in range(400,890):\n",
    "        temp[i,j]=photo[i,j]\n",
    "        photo[i,j]=photo2[i,j]\n",
    "        photo2[i,j]=temp[i,j]\n",
    "\n"
   ]
  },
  {
   "cell_type": "code",
   "execution_count": 11,
   "id": "cd95d56d",
   "metadata": {},
   "outputs": [],
   "source": [
    "#photo after cropping and swapping \n",
    "cv2.imshow('hi',photo)\n",
    "cv2.waitKey()\n",
    "cv2.destroyAllWindows()"
   ]
  },
  {
   "cell_type": "code",
   "execution_count": 12,
   "id": "5df6c6e1",
   "metadata": {},
   "outputs": [],
   "source": [
    "#photo2 after cropping and swapping\n",
    "cv2.imshow('hi',photo2)\n",
    "cv2.waitKey()\n",
    "cv2.destroyAllWindows()"
   ]
  },
  {
   "cell_type": "code",
   "execution_count": 13,
   "id": "d8009a3d",
   "metadata": {},
   "outputs": [],
   "source": [
    "#Task_4.3: Take 2 image and combine it to form a single image\n",
    "#concatinating 2 arrays\n",
    "converge=numpy.hstack((photo,photo2))\n",
    "cv2.imshow('hi',converge)\n",
    "cv2.waitKey()\n",
    "cv2.destroyAllWindows()"
   ]
  },
  {
   "cell_type": "code",
   "execution_count": null,
   "id": "5bf991c4",
   "metadata": {},
   "outputs": [],
   "source": []
  },
  {
   "cell_type": "code",
   "execution_count": null,
   "id": "db30c511",
   "metadata": {},
   "outputs": [],
   "source": []
  }
 ],
 "metadata": {
  "kernelspec": {
   "display_name": "Python 3",
   "language": "python",
   "name": "python3"
  },
  "language_info": {
   "codemirror_mode": {
    "name": "ipython",
    "version": 3
   },
   "file_extension": ".py",
   "mimetype": "text/x-python",
   "name": "python",
   "nbconvert_exporter": "python",
   "pygments_lexer": "ipython3",
   "version": "3.8.8"
  }
 },
 "nbformat": 4,
 "nbformat_minor": 5
}
